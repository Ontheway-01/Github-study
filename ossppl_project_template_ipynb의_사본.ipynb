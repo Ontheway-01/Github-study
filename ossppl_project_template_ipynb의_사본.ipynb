{
  "nbformat": 4,
  "nbformat_minor": 0,
  "metadata": {
    "colab": {
      "name": "ossppl_project_template.ipynb의 사본",
      "provenance": [],
      "collapsed_sections": [
        "NUD-hySm_uPc"
      ],
      "include_colab_link": true
    },
    "kernelspec": {
      "name": "python3",
      "display_name": "Python 3"
    }
  },
  "cells": [
    {
      "cell_type": "markdown",
      "metadata": {
        "id": "view-in-github",
        "colab_type": "text"
      },
      "source": [
        "<a href=\"https://colab.research.google.com/github/Ontheway-01/Github-study/blob/master/ossppl_project_template_ipynb%EC%9D%98_%EC%82%AC%EB%B3%B8.ipynb\" target=\"_parent\"><img src=\"https://colab.research.google.com/assets/colab-badge.svg\" alt=\"Open In Colab\"/></a>"
      ]
    },
    {
      "cell_type": "markdown",
      "metadata": {
        "id": "NUD-hySm_uPc"
      },
      "source": [
        "# **Open Source SW and Python Programming Project: Implementation of Subway Navigation**\n",
        "\n",
        "In this project, you will implement a navigation system for Seoul subway stations, especially **step by step**\n",
        "\n",
        "\n"
      ]
    },
    {
      "cell_type": "markdown",
      "metadata": {
        "id": "uUsnepoeAhVl"
      },
      "source": [
        "# 0. Initialization\n",
        "\n",
        "Read subway station information by reading the file **simplified_subway_info_english.xlsx** or **simplified_subway_info_korean.xlsx**\n",
        "*  The excel file contains subway station information of Seoul subway line 1 ~ 4\n",
        "*  When you execute this sourcecode, you MUST upload these files in your Colab runtime environment\n",
        "*   **MUST NOT** change this code cell"
      ]
    },
    {
      "cell_type": "code",
      "metadata": {
        "id": "qnbOlA6o_mIl"
      },
      "source": [
        "import xlrd\n",
        "\n",
        "# Read data file\n",
        "data = xlrd.open_workbook(\"simplified_subway_info_english.xlsx\")\n",
        "data = data.sheet_by_name('Sheet1')\n",
        "\n",
        "# Store the loaded book object as a string list in subwayStation variable\n",
        "subwayStation = []\n",
        "for line in range(4) :\n",
        "    cur = [x for x in data.col_values(line) if x]    \n",
        "    subwayStation.append(cur[1:])"
      ],
      "execution_count": 23,
      "outputs": []
    },
    {
      "cell_type": "markdown",
      "metadata": {
        "id": "DBXU61Tn_vKS"
      },
      "source": [
        "# 1. Your implementation\n",
        "Let's start the implementation of a subway naviation system by using the loaded subway station information :)\n",
        "\n",
        "*   You can access the subway station information by referring to **subwayStation** variable (list type)"
      ]
    },
    {
      "cell_type": "code",
      "metadata": {
        "id": "7h-scy6AI8Re",
        "colab": {
          "base_uri": "https://localhost:8080/"
        },
        "outputId": "858a9685-807d-4c72-ce51-bd02f072140e"
      },
      "source": [
        "def choose_mode():\n",
        "    while True:\n",
        "        print('*****' * 30)\n",
        "        print('1. Display subway line information (Line 1 ~ 4)')\n",
        "        print('2. Display subway station information')\n",
        "        print('3. Find a path between two subway stations')\n",
        "        print('4. VIew my recent requests')\n",
        "        print('5. Exit')\n",
        "        print('*****' * 30)\n",
        "        select = int(input('Please choose one of the optiosn (1 - 5):'))\n",
        "        return select\n",
        "        \n",
        "def dispSubwayLineInfo():\n",
        "    print('*****' * 30)\n",
        "    print('Subway line information service')\n",
        "    print('*****' * 30)\n",
        "    while True:\n",
        "        line = 'Line' + input('Please enter a subway line number (1 - 4):')\n",
        "        if line in subwayStation.keys():\n",
        "            print(subwayStation[line])\n",
        "            break\n",
        "        print('[ERROR] Please enter a valid number (1 - 4)')\n",
        "\n",
        "def findLinesForStation(subwayStation, stationName):\n",
        "    lines = []\n",
        "    for line, stations in subwayStation.items():\n",
        "        if stationName in stations:\n",
        "            lines.append(line)\n",
        "    return lines\n",
        "\n",
        "def requestValidStation(subwayStation, msg, errorMsg):\n",
        "    while True:\n",
        "        station = input(msg)\n",
        "        lines = findLinesForStation(subwayStation, station)\n",
        "    \n",
        "        if len(lines) > 0:\n",
        "            return station, lines          \n",
        "        print(errorMsg)\n",
        "\n",
        "def dispSubwayStationInfo():\n",
        "    print('*****' * 30)\n",
        "    print('Subway station information service')\n",
        "    print('*****' * 30)\n",
        "    station, lines = requestValidStation(subwayStation, \n",
        "                                        'Please enter a subway station name:', \n",
        "                                        '[ERROR] Please enter a valid station name') \n",
        "    print(station, 'station is in', lines)\n",
        "\n",
        "def findPathInLine(stations, start, end):\n",
        "    startIdx = stations.index(start)\n",
        "    endIdx = stations.index(end)\n",
        "\n",
        "    path = list(stations[min(startIdx, endIdx):max(startIdx, endIdx) + 1])\n",
        "    if startIdx >= endIdx:\n",
        "        path.reverse()\n",
        "\n",
        "    return path\n",
        "\n",
        "\n",
        "if not isinstance(subwayStation, dict):\n",
        "    tmp = subwayStation\n",
        "    subwayStation = {}\n",
        "    for key, value in zip(('Line1', 'Line2', 'Line3', 'Line4'), tmp):\n",
        "        subwayStation[key] = tuple(value)\n",
        "\n",
        "# Define User class\n",
        "class User():\n",
        "    def __init__(self, id, pw, dpt, dst):\n",
        "    pass\n",
        "\n",
        "# Load user account information and create a list of users\n",
        "users = [] # this list contations instances of a User class.\n",
        "with open('user.txt', 'rt') as f:\n",
        "    for user in f.readlines():        \n",
        "        ''' \n",
        "        Assumption: 'user.txt' contains each user's account information \n",
        "        e.g., \n",
        "        hskimhello 12345678 Sindorim Yaksu\n",
        "        ossppl 87654321 None None\n",
        "\n",
        "        1. Take each user's information by splitting \"user\": \n",
        "            id, pw, dpt, dst = user.split()\n",
        "        2. Create an instance of a User class \n",
        "        3. Append the instance to the \"users\" list\n",
        "            users.append(User(id, pw, dpt, dst))\n",
        "        '''\n",
        "        pass\n",
        "\n",
        "##########################################################################################\n",
        "# Implement a user-specific service by using a User class and users list\n",
        "##########################################################################################\n",
        "\n",
        "\n",
        "##########################################################################################\n",
        "# Before the program is terminated\n",
        "##########################################################################################\n",
        "with open('user.txt', 'wt') as f:\n",
        "    for user in users:\n",
        "        '''\n",
        "        Store each user's id, password, departure, and destination by using f.write()\n",
        "        '''\n",
        "        pass\n",
        "\n",
        "while True:\n",
        "    select = choose_mode()\n",
        "    if select == 1:\n",
        "        dispSubwayLineInfo()\n",
        "    elif select == 2:\n",
        "        dispSubwayStationInfo()\n",
        "    elif select == 3:\n",
        "        dptStation, dptLines = requestValidStation(subwayStation, \n",
        "                                        'Please enter a departure station name:', \n",
        "                                        '[ERROR] Please enter a valid departure station name')\n",
        "        \n",
        "        dstStation, dstLines = requestValidStation(subwayStation, \n",
        "                                        'Please enter a destination station name:', \n",
        "                                        '[ERROR] Please enter a valid destination station name')\n",
        "        \n",
        "        commonLine = list(set(dptLines).intersection(set(dstLines)))\n",
        "        if len(commonLine) > 0:\n",
        "            curLine = commonLine[0]\n",
        "            curStations = subwayStation[curLine]\n",
        "\n",
        "            path = findPathInLine(curStations, dptStation, dstStation)\n",
        "\n",
        "            print('In', curLine)\n",
        "            print(path)\n",
        "        else:\n",
        "            isDetected = False\n",
        "            for dptLine in dptLines:\n",
        "                for dstLine in dstLines:\n",
        "                    commonStations = list(set(subwayStation[dptLine]).intersection(set(subwayStation[dstLine])))\n",
        "\n",
        "                    if len(commonStations) > 0:\n",
        "                        curComm = commonStations[0]\n",
        "                        curStations = subwayStation[dptLine]\n",
        "\n",
        "                        path = findPathInLine(curStations, dptStation, curComm)\n",
        "\n",
        "                        print('In', dptLine)\n",
        "                        print(path)\n",
        "\n",
        "                        curStations = subwayStation[dstLine]\n",
        "\n",
        "                        path = findPathInLine(curStations, curComm, dstStation)\n",
        "\n",
        "                        print('Transfer to', dstLine)\n",
        "                        print(path)\n",
        "                        isDetected = True\n",
        "                        break\n",
        "                if isDetected:\n",
        "                    break\n",
        "\n",
        "    elif select == 4:\n",
        "        \n",
        "    elif select == 5:\n",
        "        print('Bye bye~~')\n",
        "        break   \n",
        "    else:\n",
        "        print('[ERROR] Please enter a valid option (1 - 5)')\n",
        "        \n"
      ],
      "execution_count": 22,
      "outputs": [
        {
          "output_type": "stream",
          "text": [
            "******************************************************************************************************************************************************\n",
            "1. Display subway line information (Line 1 ~ 4)\n",
            "2. Display subway station information\n",
            "3. Find a path between two subway stations\n",
            "4. Exit\n",
            "******************************************************************************************************************************************************\n",
            "Please choose one of the optiosn (1 - 4):2\n",
            "******************************************************************************************************************************************************\n",
            "Subway station information service\n",
            "******************************************************************************************************************************************************\n",
            "Please enter a subway station name:Seoul Station\n",
            "Seoul Station station is in ['Line1', 'Line4']\n",
            "******************************************************************************************************************************************************\n",
            "1. Display subway line information (Line 1 ~ 4)\n",
            "2. Display subway station information\n",
            "3. Find a path between two subway stations\n",
            "4. Exit\n",
            "******************************************************************************************************************************************************\n",
            "Please choose one of the optiosn (1 - 4):4\n",
            "Bye bye~~\n"
          ],
          "name": "stdout"
        }
      ]
    },
    {
      "cell_type": "code",
      "metadata": {
        "id": "simnIey7g-i9"
      },
      "source": [
        ""
      ],
      "execution_count": null,
      "outputs": []
    },
    {
      "cell_type": "code",
      "metadata": {
        "id": "SCCDjXXGg-7y"
      },
      "source": [
        ""
      ],
      "execution_count": null,
      "outputs": []
    }
  ]
}